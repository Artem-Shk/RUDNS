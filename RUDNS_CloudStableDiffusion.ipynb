{
   
 "cells": [
    {
      "cell_type": "markdown",
      "metadata": {
        "colab_type": "text",
        "id": "view-in-github"
      },
      "source": [
        "<a href=\"https://colab.research.google.com/github/Artem-Shk/RUDNS/blob/main/RUDNS_CloudStableDiffusion.ipynb\" target=\"_parent\"><img src=\"https://colab.research.google.com/assets/colab-badge.svg\" alt=\"Open In Colab\"/></a>"
      ]
    },
    {
      "cell_type": "code",
      "source": [
        "!pip install diffusers transformers accelerate matplotlib"
      ],
      "metadata": {
        "id": "y8pKtOMsZJ0R"
      },
      "execution_count": null,
      "outputs": []
    },
    {
      "cell_type": "code",
      "execution_count": null,
      "metadata": {
        "id": "qrTjDcfYKJVF"
      },
      "outputs": [],
      "source": [
        "import cv2\n",
        "import torch\n",
        "from diffusers import StableDiffusionPipeline, DPMSolverMultistepScheduler\n",
        "from matplotlib import pyplot as plt\n",
        "from PIL import Image, ImageDraw, ImageFont"
      ]
    },
    {
      "cell_type": "code",
      "execution_count": null,
      "metadata": {
        "id": "sL6Wj36lJ9gz"
      },
      "outputs": [],
      "source": [
        "class Model:\n",
        "  def __init__(self):\n",
        "    self.model_id = \"stabilityai/stable-diffusion-2-1\"\n",
        "    self.model = self.__build_model()\n",
        "\n",
        "\n",
        "  def __build_model(self):\n",
        "\n",
        "    pipe = StableDiffusionPipeline.from_pretrained(self.model_id, torch_dtype=torch.float16)\n",
        "    pipe.scheduler = DPMSolverMultistepScheduler.from_config(pipe.scheduler.config)\n",
        "    model = pipe.to('cuda')\n",
        "    return pipe"
      ]
    },
    {
      "cell_type": "code",
      "source": [
        "m = Model()"
      ],
      "metadata": {
        "id": "LnKvuLRKZ_Bb"
      },
      "execution_count": null,
      "outputs": []
    },
    {
      "cell_type": "code",
      "source": [
        "class ImageDisplay:\n",
        "  def showI(image):\n",
        "    plt.axis(\"off\")\n",
        "    plt.imshow(image)\n",
        "    plt.show()"
      ],
      "metadata": {
        "id": "i6fmeIPTaAwi"
      },
      "execution_count": null,
      "outputs": []
    },
    {
      "cell_type": "code",
      "execution_count": null,
      "metadata": {
        "id": "eVLtQAt1LnFc"
      },
      "outputs": [],
      "source": [
        "for i in m(input(\"Prompt: \"), num_images_per_prompt=int(input(\"Count: \")), height=720, width=1280).images: ImageDisplay.showI(i)"
      ]
    },
    {
      "cell_type": "markdown",
      "metadata": {
        "id": "gS209_q8Uoz1"
      },
      "source": [
        "# Train Test"
      ]
    }
  ],
  "metadata": {
    "accelerator": "GPU",
    "colab": {
      "provenance": []
    },
    "kernelspec": {
      "display_name": "Python 3",
      "name": "python3"
    },
    "language_info": {
      "name": "python"
    }
  },
  "nbformat": 4,
  "nbformat_minor": 0
}
